{
 "cells": [
  {
   "cell_type": "code",
   "execution_count": null,
   "id": "coupled-geography",
   "metadata": {},
   "outputs": [],
   "source": [
    "import pandas as pd"
   ]
  },
  {
   "cell_type": "code",
   "execution_count": null,
   "id": "running-danger",
   "metadata": {},
   "outputs": [],
   "source": [
    "df=pd.read_excel(\"1-s2.0-S2162253119304068-mmc2.xls\")\n",
    "df[\"target\"] = df[\"gapmer\"].str[0]"
   ]
  },
  {
   "cell_type": "code",
   "execution_count": null,
   "id": "imperial-situation",
   "metadata": {},
   "outputs": [],
   "source": [
    "df = df[[\"target\",\"sequence\",\"lnadna\", \"cas_avg\", \"kd_avg\"]]"
   ]
  },
  {
   "cell_type": "code",
   "execution_count": null,
   "id": "driving-automation",
   "metadata": {},
   "outputs": [],
   "source": [
    "df = df.rename({\"lnadna\": \"design\"}, axis=1)"
   ]
  },
  {
   "cell_type": "code",
   "execution_count": null,
   "id": "lesbian-aside",
   "metadata": {},
   "outputs": [],
   "source": [
    "df.to_csv(\"gapmer_data_clean.csv\", index=None)"
   ]
  },
  {
   "cell_type": "code",
   "execution_count": null,
   "id": "parental-butterfly",
   "metadata": {},
   "outputs": [],
   "source": []
  }
 ],
 "metadata": {
  "kernelspec": {
   "display_name": "Python 3",
   "language": "python",
   "name": "python3"
  },
  "language_info": {
   "codemirror_mode": {
    "name": "ipython",
    "version": 3
   },
   "file_extension": ".py",
   "mimetype": "text/x-python",
   "name": "python",
   "nbconvert_exporter": "python",
   "pygments_lexer": "ipython3",
   "version": "3.8.5"
  }
 },
 "nbformat": 4,
 "nbformat_minor": 5
}
